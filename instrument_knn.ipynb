{
  "nbformat": 4,
  "nbformat_minor": 0,
  "metadata": {
    "colab": {
      "provenance": [],
      "authorship_tag": "ABX9TyO9tXG62/VL+Ql1y/6Q0K5b",
      "include_colab_link": true
    },
    "kernelspec": {
      "name": "python3",
      "display_name": "Python 3"
    },
    "language_info": {
      "name": "python"
    }
  },
  "cells": [
    {
      "cell_type": "markdown",
      "metadata": {
        "id": "view-in-github",
        "colab_type": "text"
      },
      "source": [
        "<a href=\"https://colab.research.google.com/github/Arthicsu/ArthicsuGPT/blob/classificate-instrument-sklearn-br/instrument_knn.ipynb\" target=\"_parent\"><img src=\"https://colab.research.google.com/assets/colab-badge.svg\" alt=\"Open In Colab\"/></a>"
      ]
    },
    {
      "cell_type": "code",
      "execution_count": 3,
      "metadata": {
        "colab": {
          "base_uri": "https://localhost:8080/"
        },
        "id": "VUMNZlMgTRQ0",
        "outputId": "af141fbb-3281-4769-8cf0-905020b3a720"
      },
      "outputs": [
        {
          "output_type": "stream",
          "name": "stdout",
          "text": [
            "    y_pred Y_test1\n",
            "13   flute   flute\n",
            "45    drum    drum\n",
            "47  guitar  guitar\n",
            "44  guitar  guitar\n",
            "17  guitar  guitar\n",
            "27    drum    drum\n",
            "26  guitar  guitar\n",
            "25   flute   flute\n",
            "31   flute   flute\n",
            "19   flute   flute\n",
            "12    drum    drum\n",
            "4    flute   flute\n",
            "34   flute   flute\n",
            "8   guitar  guitar\n",
            "3     drum    drum\n",
            "accuracy: 1.0\n"
          ]
        }
      ],
      "source": [
        "from sklearn.model_selection import train_test_split\n",
        "from sklearn.neighbors import KNeighborsClassifier\n",
        "from sklearn.metrics import accuracy_score\n",
        "\n",
        "import pickle\n",
        "import pandas as pd\n",
        "\n",
        "instrument_df=pd.read_csv(\"/content/ins_data.csv\")\n",
        "instrument_df.head(5)\n",
        "X=instrument_df.drop([\"instrument\"],axis=1)\n",
        "Y=instrument_df[\"instrument\"]\n",
        "\n",
        "X_train1, X_test1, Y_train1, Y_test1=train_test_split(X, Y, test_size=0.3, random_state=42)\n",
        "model = KNeighborsClassifier(n_neighbors=3)\n",
        "model.fit(X_train1, Y_train1)\n",
        "\n",
        "y_pred = model.predict(X_test1)\n",
        "print(y_pred)\n",
        "\n",
        "df = pd.DataFrame({'y_pred': y_pred,\n",
        "                   'Y_test1': Y_test1})\n",
        "print(df)\n",
        "\n",
        "print(f'accuracy: {accuracy_score(Y_test1, y_pred) :.3}')\n",
        "\n",
        "with open('instrument_pickle_file.pkl','wb') as pkl:\n",
        "    pickle.dump(model, pkl)"
      ]
    }
  ]
}